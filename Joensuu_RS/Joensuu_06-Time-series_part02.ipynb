{
 "cells": [
  {
   "cell_type": "markdown",
   "id": "51f3d40e-1924-4fa4-93e0-4c860be68609",
   "metadata": {},
   "source": [
    "# VI. Time series: visualizing"
   ]
  },
  {
   "cell_type": "markdown",
   "id": "a6c7f26f-1e97-4518-99ad-4695815bd6ae",
   "metadata": {},
   "source": [
    "---\n",
    "**Author(s):** Quentin Yeche, Kenji Ose, Dino Ienco - [UMR TETIS](https://umr-tetis.fr) / [INRAE](https://www.inrae.fr/)\n",
    "\n",
    "---"
   ]
  },
  {
   "cell_type": "markdown",
   "id": "3a99b205-664c-4541-9eed-28c6ea611523",
   "metadata": {},
   "source": [
    "## 1. Introduction\n",
    "\n",
    "In this notebook we will introduce some tips for visualizing and masking time series."
   ]
  },
  {
   "cell_type": "markdown",
   "id": "20856e8a-89d6-41b4-b900-37519029938e",
   "metadata": {},
   "source": [
    "## 2. Import libraries\n",
    "\n",
    "As usual, we import all the required Python libraries."
   ]
  },
  {
   "cell_type": "code",
   "execution_count": null,
   "id": "6a173858-e1ae-443c-bf81-6a211a06dbe0",
   "metadata": {
    "tags": []
   },
   "outputs": [],
   "source": [
    "# STAC access\n",
    "import pystac_client\n",
    "import planetary_computer\n",
    "\n",
    "# dataframes\n",
    "import pandas as pd\n",
    "\n",
    "# xarrays\n",
    "import xarray as xr\n",
    "\n",
    "# library for turning STAC objects into xarrays\n",
    "import stackstac\n",
    "\n",
    "# visualization\n",
    "from matplotlib import pyplot as plt\n",
    "\n",
    "# library for generating animated gif\n",
    "import geogif\n",
    "\n",
    "# miscellanous\n",
    "import numpy as np\n",
    "from IPython.display import display\n",
    "from datetime import date\n",
    "import time"
   ]
  },
  {
   "cell_type": "markdown",
   "id": "a4a01ba4-9b2e-4b35-8d75-0a62ac2a1bba",
   "metadata": {},
   "source": [
    "## 3. Reloading of Sentinel-2 time series\n",
    "\n",
    "Here we run the code of the [previous notebook](Joensuu_05-Time-series_part01.ipynb) in order to get the Sentinel-2 images time series, in the region of Montpellier. We add two arguments in the search:\n",
    "- `sat:relative_orbit`: relative orbit\n",
    "- `eo:cloud_cover`: cloud vover"
   ]
  },
  {
   "cell_type": "code",
   "execution_count": null,
   "id": "9f148094-3411-4ec3-811a-f78c495020bd",
   "metadata": {},
   "outputs": [],
   "source": [
    "aoi_bounds = (3.875107329166124, 43.48641456618909, \n",
    "              4.118824575734205, 43.71739887308995)\n",
    "cloud_nb = 20\n",
    "# retrieving the relevant STAC Item\n",
    "catalog = pystac_client.Client.open(\n",
    "    \"https://planetarycomputer.microsoft.com/api/stac/v1\",\n",
    "    modifier=planetary_computer.sign_inplace,\n",
    "    )\n",
    "\n",
    "today = date.today()\n",
    "last_month = today.replace(month=today.month-1).strftime('%Y-%m')\n",
    "time_range = f\"2020-01-01/2021-01-01\"#{last_month}\"\n",
    "search = catalog.search(\n",
    "    collections=['sentinel-2-l2a'],\n",
    "    datetime=time_range,\n",
    "    bbox=aoi_bounds,\n",
    "    query={\"sat:relative_orbit\": {\"eq\": 8}, \n",
    "           \"eo:cloud_cover\": {\"lt\": cloud_nb}},\n",
    "    sortby=\"datetime\"\n",
    ")\n",
    "items = search.item_collection()\n",
    "print(f\"{len(items)} items found\")\n",
    "\n",
    "time_steps_pc = len(items)\n",
    "\n",
    "bands = ['B02', 'B03', 'B04', 'B05', 'B06', 'B07', 'B08', 'B11', 'B12', 'SCL']\n",
    "FILL_VALUE = 2**16-1\n",
    "array = stackstac.stack(\n",
    "                    items,\n",
    "                    assets = bands,\n",
    "                    resolution=10,\n",
    "                    dtype=\"uint16\",\n",
    "                    fill_value=FILL_VALUE,\n",
    "                    bounds_latlon=[3.944092,43.526638,4.014816,43.568420],#aoi_bounds,\n",
    "                    chunksize= (time_steps_pc, 1, 'auto', 'auto')\n",
    "                    )\n",
    "array.drop_duplicates('time')\n",
    "array "
   ]
  },
  {
   "cell_type": "markdown",
   "id": "5d09b401-8876-476d-8b62-cb477390bbda",
   "metadata": {},
   "source": [
    "## 4. Example of ploting time series images\n",
    "\n",
    "\n",
    "### 4.1. Plotting by default\n",
    "\n",
    "We plot the first 6 dates of the xarray in false-color composite."
   ]
  },
  {
   "cell_type": "code",
   "execution_count": null,
   "id": "0d6d353e-daa7-4b8d-a461-c7a41d2d37b5",
   "metadata": {},
   "outputs": [],
   "source": [
    "source = array.sel(band=[\"B08\", \"B04\", \"B03\"])\n",
    "\n",
    "rgb = source[:6]\n",
    "starttime = time.time()\n",
    "rgb.plot.imshow(col_wrap=3, col=\"time\", rgb=\"band\", vmax=2500, size=4)\n",
    "print(f\"time: {time.time()-starttime}\")\n"
   ]
  },
  {
   "cell_type": "markdown",
   "id": "aaaf2a9b-0675-48fc-9cf4-f8a168c83f43",
   "metadata": {},
   "source": [
    "We can also plot the NDVI..."
   ]
  },
  {
   "cell_type": "code",
   "execution_count": null,
   "id": "aa8b964b-1f57-4657-a849-1a6c7754f248",
   "metadata": {
    "tags": []
   },
   "outputs": [],
   "source": [
    "nir_src, red_src = source.sel(band=\"B08\").astype('float'), source.sel(band=\"B04\").astype('float')\n",
    "ndvi_src = (nir_src - red_src) / (nir_src + red_src)\n",
    "ndvi_plt = ndvi_src[:6]\n",
    "ndvi_plt.plot.imshow(col_wrap=3, col=\"time\", size=4, cmap='viridis')\n"
   ]
  },
  {
   "cell_type": "markdown",
   "id": "fdca57de-4a75-449c-a710-b726c105e62f",
   "metadata": {},
   "source": [
    "As we can see on the previous plots, some images are cloudy. It's time to mask those invalid pixels."
   ]
  },
  {
   "cell_type": "markdown",
   "id": "15234771-c583-4a79-9a75-6def7c79fb78",
   "metadata": {},
   "source": [
    "### 4.2. Cloud masking\n",
    "\n",
    "For masking the clouds, Sentinel-2 item contains an asset, called SCL, that allows masking different types of invalid pixels.\n",
    "\n",
    "For information, SCL band is coded as follows:\n",
    "\n",
    "|Bit| value Class             |\n",
    "|---|-------------------------|\n",
    "|0  | No data                 |\n",
    "|1  | Saturated or defective  |\n",
    "|2  | Dark area pixels        |\n",
    "|3  | Cloud shadows           |\n",
    "|4  | Vegetation              |\n",
    "|5  | Bare Soil               |\n",
    "|6  | Water                   |\n",
    "|7  | Unclassified            |\n",
    "|8  | Cloud medium probability|\n",
    "|9  | Cloud high probability  |\n",
    "|10 | Thin cirrus             |\n",
    "|11 | Snow or ice             |\n",
    "   \n",
    "Values related to cloud and cloud shadows are kept here."
   ]
  },
  {
   "cell_type": "code",
   "execution_count": null,
   "id": "0a5b0df6-d002-4cbe-83a6-71c6be1f118d",
   "metadata": {},
   "outputs": [],
   "source": [
    "# mask creation\n",
    "SCL = array.sel(band = 'SCL')\n",
    "mask = SCL.isin([3, 8, 9, 10])\n",
    "\n",
    "# application of mask\n",
    "result = array.where(~mask) #, 0) argument 2 = new output value for nan\n",
    "\n",
    "source_m = result.sel(band=[\"B08\", \"B04\", \"B03\"])\n",
    "rgb = source_m[:6]\n",
    "starttime = time.time()\n",
    "rgb.plot.imshow(col_wrap=3, col=\"time\", rgb=\"band\", vmax=2500, size=4)\n",
    "print(f\"time: {time.time()-starttime}\")"
   ]
  },
  {
   "cell_type": "markdown",
   "id": "4f5fd71c-5095-4d68-862f-9080738dd913",
   "metadata": {},
   "source": [
    "## 5. Gap Filling\n",
    "\n",
    "We would like to perform a temporal **gapfilling** of our Sentinel-2 time series. We have to calculate an interpolated value for all masked (nodata) pixels. Here we choose the linear method and apply it to the masked xarray. Finally, we calculate again the NDVI."
   ]
  },
  {
   "cell_type": "code",
   "execution_count": null,
   "id": "a17b1f57-2d0b-490b-a07a-52763d5424bb",
   "metadata": {
    "tags": []
   },
   "outputs": [],
   "source": [
    "starttime = time.time()\n",
    "\n",
    "interpolated = source_m.interpolate_na(dim=\"time\", method=\"linear\", use_coordinate = 'time')\n",
    "interpolated = interpolated.bfill(dim= 'time')\n",
    "interpolated.data = interpolated.data.astype(np.uint16)\n",
    "\n",
    "rgb = interpolated[:6]\n",
    "\n",
    "nir, red = interpolated.sel(band=\"B08\").astype('float'), interpolated.sel(band=\"B04\").astype('float')\n",
    "ndvi_int = (nir - red) / (nir + red)\n",
    "\n",
    "rgb.plot.imshow(col_wrap=3, col=\"time\", rgb=\"band\", vmax=2500, size=4)\n",
    "\n",
    "print(f\"time: {time.time()-starttime}\")\n"
   ]
  },
  {
   "cell_type": "markdown",
   "id": "362b4fa1-6505-4d74-802e-adb53bb6d984",
   "metadata": {},
   "source": [
    "Now, on one pixel, we compare the NDVI time series with and without gap-filling."
   ]
  },
  {
   "cell_type": "code",
   "execution_count": null,
   "id": "879bbf87-d05f-494c-a1ad-3189bbc47561",
   "metadata": {
    "tags": []
   },
   "outputs": [],
   "source": [
    "x, y =562453, 4874880\n",
    "ndvi_int_pt = ndvi_int.sel(x=x, y=y, method='nearest')\n",
    "ndvi_src_pt = ndvi_src.sel(x=x, y=y, method='nearest')\n",
    "\n",
    "plt.plot(ndvi_int_pt.time, ndvi_int_pt)\n",
    "plt.plot(ndvi_src_pt.time, ndvi_src_pt)\n",
    "plt.legend(['ndvi - interpolation', 'ndvi - source'])\n",
    "plt.show()"
   ]
  },
  {
   "cell_type": "markdown",
   "id": "e019ce1e-5f6f-4519-a1a2-9f302e30ffde",
   "metadata": {},
   "source": [
    "## 6. Conversion of S2 time series into median time series\n",
    "\n",
    "Reduce time dimension in function of quartile (4 images a year) and time with median."
   ]
  },
  {
   "cell_type": "code",
   "execution_count": null,
   "id": "e8141b80-5caa-44ac-af8e-39f49ae14679",
   "metadata": {},
   "outputs": [],
   "source": [
    "composites = interpolated.resample(time=\"M\").median(\"time\")\n",
    "composites"
   ]
  },
  {
   "cell_type": "code",
   "execution_count": null,
   "id": "17f8938d-a453-4201-a93e-d7a28a4cdb1f",
   "metadata": {
    "tags": []
   },
   "outputs": [],
   "source": [
    "nir, red = composites.sel(band=\"B08\").astype('float'), composites.sel(band=\"B04\").astype('float')\n",
    "ndvi_med = (nir - red) / (nir + red)\n",
    "\n",
    "ndvi_med_pt = ndvi_med.sel(x=x, y=y, method='nearest')\n",
    "plt.plot(ndvi_med_pt.time, ndvi_med_pt)\n",
    "plt.show()"
   ]
  },
  {
   "cell_type": "markdown",
   "id": "0abc0258-8cba-42b2-ab57-bc60f47450bf",
   "metadata": {},
   "source": [
    "## 7. Extra: Make a nice-looking animation\n",
    "\n",
    "### 7.1. Production of animated GIF\n",
    "\n",
    "We use `GeoGIF` to turn the stack into an animation."
   ]
  },
  {
   "cell_type": "code",
   "execution_count": null,
   "id": "7c1d6855-da9e-477d-b0a1-610c816c2378",
   "metadata": {},
   "outputs": [],
   "source": [
    "gif_img = geogif.dgif(composites, fps=8).compute()\n",
    "gif_img"
   ]
  },
  {
   "cell_type": "markdown",
   "id": "8ac555ba-ee06-4999-a5fe-d6736d3eef7e",
   "metadata": {},
   "source": [
    "If you want to export the animated image as a GIF file, you should use the following instructions. The file will be saved at the same location as the current notebook file. "
   ]
  },
  {
   "cell_type": "code",
   "execution_count": null,
   "id": "2d0668ff-c0f1-4e86-b800-d7790e24ec21",
   "metadata": {},
   "outputs": [],
   "source": [
    "gif_bytes = geogif.dgif(composites, fps=8, bytes=True, robust=True).compute()\n",
    "\n",
    "with open(\"example.gif\", \"wb\") as f:\n",
    "    f.write(gif_bytes)\n"
   ]
  },
  {
   "cell_type": "code",
   "execution_count": null,
   "id": "119c1b30-0442-430d-8a51-1433c2a8e5d1",
   "metadata": {},
   "outputs": [],
   "source": []
  }
 ],
 "metadata": {
  "kernelspec": {
   "display_name": "Python 3 (ipykernel)",
   "language": "python",
   "name": "python3"
  },
  "language_info": {
   "codemirror_mode": {
    "name": "ipython",
    "version": 3
   },
   "file_extension": ".py",
   "mimetype": "text/x-python",
   "name": "python",
   "nbconvert_exporter": "python",
   "pygments_lexer": "ipython3",
   "version": "3.11.4"
  }
 },
 "nbformat": 4,
 "nbformat_minor": 5
}
