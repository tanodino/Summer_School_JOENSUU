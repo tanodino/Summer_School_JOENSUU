{
 "cells": [
  {
   "cell_type": "markdown",
   "id": "51f3d40e-1924-4fa4-93e0-4c860be68609",
   "metadata": {},
   "source": [
    "# VI. Time series: visualizing"
   ]
  },
  {
   "cell_type": "markdown",
   "id": "a6c7f26f-1e97-4518-99ad-4695815bd6ae",
   "metadata": {},
   "source": [
    "---\n",
    "**Author(s):** Quentin Yeche, Kenji Ose, Dino Ienco - [UMR TETIS](https://umr-tetis.fr) / [INRAE](https://www.inrae.fr/)\n",
    "\n",
    "---"
   ]
  },
  {
   "cell_type": "markdown",
   "id": "3a99b205-664c-4541-9eed-28c6ea611523",
   "metadata": {},
   "source": [
    "## 1. Introduction\n",
    "\n",
    "In this notebook we will introduce some tips for visualizing and masking time series."
   ]
  },
  {
   "cell_type": "markdown",
   "id": "20856e8a-89d6-41b4-b900-37519029938e",
   "metadata": {},
   "source": [
    "## 2. Import libraries\n",
    "\n",
    "As usual, we import all the required Python libraries."
   ]
  },
  {
   "cell_type": "code",
   "execution_count": 1,
   "id": "6a173858-e1ae-443c-bf81-6a211a06dbe0",
   "metadata": {
    "tags": []
   },
   "outputs": [],
   "source": [
    "# STAC access\n",
    "import pystac_client\n",
    "import planetary_computer\n",
    "\n",
    "# dataframes\n",
    "import pandas as pd\n",
    "\n",
    "# xarrays\n",
    "import xarray as xr\n",
    "\n",
    "# library for turning STAC objects into xarrays\n",
    "import stackstac\n",
    "\n",
    "# visualization\n",
    "from matplotlib import pyplot as plt\n",
    "\n",
    "# miscellanous\n",
    "import numpy as np\n",
    "from IPython.display import display\n",
    "from datetime import date"
   ]
  },
  {
   "cell_type": "markdown",
   "id": "a4a01ba4-9b2e-4b35-8d75-0a62ac2a1bba",
   "metadata": {},
   "source": [
    "## 3. Reloading of Sentinel-2 time series\n",
    "\n",
    "Here we run the code of the [previous notebook](Joensuu_05-Time-series_part01.ipynb) in order to get the Sentinel-2 images time series, in the region of Montpellier."
   ]
  },
  {
   "cell_type": "code",
   "execution_count": null,
   "id": "9f148094-3411-4ec3-811a-f78c495020bd",
   "metadata": {},
   "outputs": [],
   "source": [
    "aoi_bounds = (3.875107329166124, 43.48641456618909, 4.118824575734205, 43.71739887308995)\n",
    "cloud_nb = 20\n",
    "# retrieving the relevant STAC Item\n",
    "catalog = pystac_client.Client.open(\n",
    "    \"https://planetarycomputer.microsoft.com/api/stac/v1\",\n",
    "    modifier=planetary_computer.sign_inplace,\n",
    "    )\n",
    "\n",
    "today = date.today()\n",
    "last_month = today.replace(month=today.month-1).strftime('%Y-%m')\n",
    "time_range = f\"2020-01-01/2021-01-01\"#{last_month}\"\n",
    "search = catalog.search(\n",
    "    collections=['sentinel-2-l2a'],\n",
    "    datetime=time_range,\n",
    "    bbox=[3.944092,43.526638,4.014816,43.568420],#aoi_bounds,\n",
    "    query={\"sat:relative_orbit\": {\"eq\": 8}, \n",
    "           \"eo:cloud_cover\": {\"lt\": cloud_nb}},\n",
    "    sortby=\"datetime\"\n",
    ")\n",
    "items = search.item_collection()\n",
    "print(f\"{len(items)} items found\")\n",
    "\n",
    "time_steps_pc = len(items)\n",
    "\n",
    "bands = ['B02', 'B03', 'B04', 'B05', 'B06', 'B07', 'B08', 'B11', 'B12', 'SCL']\n",
    "FILL_VALUE = 2**16-1\n",
    "array = stackstac.stack(\n",
    "                    items,\n",
    "                    assets = bands,\n",
    "                    resolution=10,\n",
    "                    dtype=\"uint16\",\n",
    "                    fill_value=FILL_VALUE,\n",
    "                    bounds_latlon=aoi_bounds,\n",
    "                    chunksize= (time_steps_pc, 1, 'auto', 'auto')\n",
    "                    )\n",
    "array.drop_duplicates('time')\n",
    "array "
   ]
  },
  {
   "cell_type": "markdown",
   "id": "5d09b401-8876-476d-8b62-cb477390bbda",
   "metadata": {},
   "source": [
    "## 4. Example of ploting time series images\n",
    "\n",
    "### 4.1. Plotting by default\n",
    "\n",
    "Plot of the first 6 dates of data xarray in natural color composite."
   ]
  },
  {
   "cell_type": "code",
   "execution_count": null,
   "id": "0d6d353e-daa7-4b8d-a461-c7a41d2d37b5",
   "metadata": {},
   "outputs": [],
   "source": [
    "source = array.sel(band=[\"B08\", \"B04\", \"B03\"])\n",
    "rgb = source[:6]\n",
    "rgb.plot.imshow(col_wrap=3, col=\"time\", rgb=\"band\", vmax=2500, size=4)"
   ]
  },
  {
   "cell_type": "markdown",
   "id": "15234771-c583-4a79-9a75-6def7c79fb78",
   "metadata": {},
   "source": [
    "### 4.2. Cloud masking\n",
    "\n",
    "For information, SCL band is coded as follows:\n",
    "\n",
    "|Bit| value Class             |\n",
    "|---|-------------------------|\n",
    "|0  | No data                 |\n",
    "|1  | Saturated or defective  |\n",
    "|2  | Dark area pixels        |\n",
    "|3  | Cloud shadows           |\n",
    "|4  | Vegetation              |\n",
    "|5  | Bare Soil               |\n",
    "|6  | Water                   |\n",
    "|7  | Unclassified            |\n",
    "|8  | Cloud medium probability|\n",
    "|9  | Cloud high probability  |\n",
    "|10 | Thin cirrus             |\n",
    "|11 | Snow or ice             |\n",
    "   \n",
    "Values related to cloud and cloud shadows are kept here."
   ]
  },
  {
   "cell_type": "code",
   "execution_count": null,
   "id": "0a5b0df6-d002-4cbe-83a6-71c6be1f118d",
   "metadata": {},
   "outputs": [],
   "source": [
    "# mask creation\n",
    "SCL = array.sel(band = 'SCL')\n",
    "mask = SCL.isin([3, 8, 9, 10])\n",
    "\n",
    "# application of mask\n",
    "result = array.where(~mask) #, 0) argument 2 = new output value for nan\n",
    "\n",
    "source = result.sel(band=[\"B08\", \"B04\", \"B03\"])\n",
    "rgb = source[:6]\n",
    "rgb.plot.imshow(col_wrap=3, col=\"time\", rgb=\"band\", vmax=2500, size=4)"
   ]
  },
  {
   "cell_type": "markdown",
   "id": "afb0a7bd-38b2-4de6-a5c8-3608057cdd0e",
   "metadata": {},
   "source": [
    "## Estimation of time interval between S2 scenes"
   ]
  },
  {
   "cell_type": "code",
   "execution_count": null,
   "id": "ed93297b-d928-42a3-8615-28845c8958af",
   "metadata": {},
   "outputs": [],
   "source": [
    "#result.time.diff(\"time\").dt.days.plot.hist()"
   ]
  },
  {
   "cell_type": "code",
   "execution_count": null,
   "id": "a17b1f57-2d0b-490b-a07a-52763d5424bb",
   "metadata": {
    "tags": []
   },
   "outputs": [],
   "source": [
    "#type(result)\n",
    "#test = result.drop_duplicates('time')\n",
    "#toto = np.array(result.time)\n",
    "#values, counts = np.unique(toto, return_counts=True)\n",
    "#idx = np.where(counts>1)[0]\n",
    "#print(values[idx])\n",
    "#print(counts[idx])\n",
    "\n",
    "interpolated = source.interpolate_na(dim=\"time\", method=\"linear\", use_coordinate = 'time')\n",
    "interpolated = interpolated.ffill(dim= 'time')\n",
    "interpolated.data = interpolated.data.astype(np.uint16)\n",
    "interpolated.plot.imshow(col_wrap=3, col=\"time\", rgb=\"band\", vmax=2500, size=4)\n",
    "#print('Band: {} - Interpolation complete'.format(band))\n",
    "\n",
    "#print(len(test))\n",
    "\n",
    "#newlist = [] # empty list to hold unique elements from the list\n",
    "#duplist = [] # empty list to hold the duplicate elements from the list\n",
    "#for i in mylist:\n",
    "#    if i not in newlist:\n",
    "#        newlist.append(i)\n",
    "#    else:\n",
    "#        duplist.append(i) # this method catches the first duplicate entries, and appends them to the list\n",
    "# The next step is to print the duplicate entries, and the unique entries\n",
    "#print(\"List of duplicates\", duplist)\n",
    "#print(\"Unique Item List\", newlist) # prints the final list of unique items\n",
    "#test2 = test.interpolate_na(dim=\"time\", method=\"linear\")\n"
   ]
  },
  {
   "cell_type": "markdown",
   "id": "e019ce1e-5f6f-4519-a1a2-9f302e30ffde",
   "metadata": {},
   "source": [
    "## Conversion of S2 time series into median time series\n",
    "\n",
    "Reduce time dimension in function of quartile (4 images a year) and time with median."
   ]
  },
  {
   "cell_type": "code",
   "execution_count": null,
   "id": "e8141b80-5caa-44ac-af8e-39f49ae14679",
   "metadata": {},
   "outputs": [],
   "source": [
    "composites = result.resample(time=\"Q\").median(\"time\")\n",
    "composites"
   ]
  },
  {
   "cell_type": "markdown",
   "id": "0de4064e-3470-42ac-810e-7b8c47f7a393",
   "metadata": {},
   "source": [
    "Selection of three bands for rgb output"
   ]
  },
  {
   "cell_type": "code",
   "execution_count": null,
   "id": "5f4740c7-2273-4dea-834c-3a76f82969d3",
   "metadata": {},
   "outputs": [],
   "source": [
    "rgb = composites.sel(band=[\"B04\", \"B03\", \"B02\"])"
   ]
  },
  {
   "cell_type": "markdown",
   "id": "0abc0258-8cba-42b2-ab57-bc60f47450bf",
   "metadata": {},
   "source": [
    "## Final cleanup to make a nicer-looking animation\n",
    "\n",
    "- Forward-fill any NaN pixels from the previous frame, to make the animation look less jumpy.\n",
    "- Also skip the first frame, since its NaNs can’t be filled from anywhere.\n"
   ]
  },
  {
   "cell_type": "code",
   "execution_count": null,
   "id": "f0729766-c694-4e77-ab62-3ff9437b797f",
   "metadata": {},
   "outputs": [],
   "source": [
    "cleaned = rgb.ffill(\"time\")[1:]"
   ]
  },
  {
   "cell_type": "markdown",
   "id": "eee732f5-467b-432a-9b62-9ba672ccdb72",
   "metadata": {},
   "source": [
    "## Production of animated GIF\n",
    "\n",
    "Use GeoGIF to turn the stack into an animation. "
   ]
  },
  {
   "cell_type": "code",
   "execution_count": null,
   "id": "7c1d6855-da9e-477d-b0a1-610c816c2378",
   "metadata": {},
   "outputs": [],
   "source": [
    "gif_img = geogif.dgif(cleaned, fps=8).compute()\n",
    "gif_img"
   ]
  }
 ],
 "metadata": {
  "kernelspec": {
   "display_name": "Python 3 (ipykernel)",
   "language": "python",
   "name": "python3"
  },
  "language_info": {
   "codemirror_mode": {
    "name": "ipython",
    "version": 3
   },
   "file_extension": ".py",
   "mimetype": "text/x-python",
   "name": "python",
   "nbconvert_exporter": "python",
   "pygments_lexer": "ipython3",
   "version": "3.11.4"
  }
 },
 "nbformat": 4,
 "nbformat_minor": 5
}
