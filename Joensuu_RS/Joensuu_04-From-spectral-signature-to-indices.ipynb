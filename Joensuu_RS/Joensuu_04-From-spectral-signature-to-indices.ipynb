{
 "cells": [
  {
   "cell_type": "markdown",
   "id": "ba202a3a-c9bf-4df5-aa1e-688edc575137",
   "metadata": {},
   "source": [
    "# IV. Zonal statistics, spectral signatures and vegetation index"
   ]
  },
  {
   "cell_type": "markdown",
   "id": "9e2184c7-c94a-4eec-906b-f36281433717",
   "metadata": {},
   "source": [
    "---\n",
    "**Author(s):** Quentin Yeche, Kenji Ose, Dino Ienco - [UMR TETIS](https://umr-tetis.fr) / [INRAE](https://www.inrae.fr/)\n",
    "\n",
    "---"
   ]
  },
  {
   "cell_type": "markdown",
   "id": "2bd8ed9c-f1af-40d7-9be4-516846a2bca1",
   "metadata": {},
   "source": [
    "## 1. Introduction\n",
    "\n",
    "Here are presented two solutions for computing zonal statistics on Sentinel-2 image with polygon vector file. We will try two librairies : `xrspatial` and `rasterstats`."
   ]
  },
  {
   "cell_type": "markdown",
   "id": "0bb2c59d-1d5e-4d01-ab56-36e2736987b1",
   "metadata": {},
   "source": [
    "## 2. Import libraries\n",
    "\n",
    "As usual, we import all the required Python libraries."
   ]
  },
  {
   "cell_type": "code",
   "execution_count": null,
   "id": "8bfabb34-d174-45e0-aa3d-34f5ae585819",
   "metadata": {},
   "outputs": [],
   "source": [
    "# STAC access\n",
    "import pystac_client\n",
    "import planetary_computer\n",
    "\n",
    "# (geo)dataframes\n",
    "import pandas as pd\n",
    "import geopandas as gpd\n",
    "\n",
    "# xarrays\n",
    "import rioxarray\n",
    "import xarray as xr\n",
    "\n",
    "from rasterio import features\n",
    "\n",
    "# library for turning STAC objects into xarrays\n",
    "import stackstac\n",
    "\n",
    "# visualization\n",
    "from matplotlib import pyplot as plt\n",
    "\n",
    "# miscellanous\n",
    "import numpy as np\n",
    "from IPython.display import display"
   ]
  },
  {
   "cell_type": "markdown",
   "id": "f6558a2f-e365-4591-bc1a-5dfbb448fc44",
   "metadata": {},
   "source": [
    "## 3. Creating a `DataArray` from STAC object\n",
    "\n",
    "### 3.1. Getting a Sentinel-2 STAC Item \n",
    "\n",
    "As a practical use case let's consider that we have identified the STAC Item we're interested in (see [this notebook](Joensuu_01-STAC.ipynb) for a refresher), and we also have an area of interest defined as a bounding box."
   ]
  },
  {
   "cell_type": "code",
   "execution_count": null,
   "id": "1dc9ac4a-eab8-4d38-89a6-27fe00d2a841",
   "metadata": {
    "tags": []
   },
   "outputs": [],
   "source": [
    "# Access to Planetary Computer API\n",
    "root_catalog = pystac_client.Client.open(\n",
    "    \"https://planetarycomputer.microsoft.com/api/stac/v1\",\n",
    "    modifier=planetary_computer.sign_inplace,\n",
    ")\n",
    "\n",
    "item_id = 'S2A_MSIL2A_20201213T104441_R008_T31TEJ_20201214T083443'\n",
    "item = root_catalog.get_collection(\"sentinel-2-l2a\").get_item(item_id)"
   ]
  },
  {
   "cell_type": "markdown",
   "id": "a6b88951-0ebb-44a6-bae2-dee1f4e3c3bf",
   "metadata": {},
   "source": [
    "### 3.2. Loading Sentinel-2 image\n",
    "\n",
    "We stack the item's assest, corresponding to spectral bands, into a `rioxarray` with a resampling at a spatial resolution of 10m.\n",
    "\n",
    "we also collect information that will be useful for the following processing steps."
   ]
  },
  {
   "cell_type": "code",
   "execution_count": null,
   "id": "6aad6b84-4a5c-4f74-aa0d-6c5db13a143b",
   "metadata": {
    "tags": []
   },
   "outputs": [],
   "source": [
    "# bounding box expressed in Lat/Lon\n",
    "aoi_bounds = (3.875107329166124, 43.48641456618909, 4.118824575734205, 43.71739887308995)\n",
    "\n",
    "# bands of interest\n",
    "boi = ['B02','B03','B04','B05','B06','B07','B08','B11','B12']\n",
    "\n",
    "FILL_VALUE = 2**16-1\n",
    "\n",
    "ds = stackstac.stack(\n",
    "                item,\n",
    "                assets = boi,\n",
    "                resolution=10,\n",
    "                dtype=\"uint16\",\n",
    "                fill_value=FILL_VALUE,\n",
    "                bounds_latlon=aoi_bounds,\n",
    "                    )\n",
    "\n",
    "s2_ref_crs = ds.crs\n",
    "s2_ref_trf = ds.transform\n",
    "s2_ref_shape = (ds['x'].size, ds['y'].size)\n",
    "\n",
    "print(f'- S2 CRS: {s2_ref_crs}')\n",
    "print(f'- S2 affine transform: \\n{s2_ref_trf}')\n",
    "print(f'- S2 XY dimension: {s2_ref_shape}')"
   ]
  },
  {
   "cell_type": "markdown",
   "id": "694954ca-b4c3-4a6f-891e-1fc16c9dca44",
   "metadata": {},
   "source": [
    "## 4. Loading of polygon vector file\n",
    "\n",
    "### 4.1. Conversion into data array\n",
    "\n",
    "In order to compute zonal statistics, first we have to convert the file into a labeled raster. Labels must be of integer type.\n",
    "\n",
    "The vector file, named `sample.geojson`, has an attribute table with the following information:\n",
    "- **fid**: unique ID [integer]\n",
    "- **geometry**: coordinates of entity's polygon <[list]\n",
    "- **landcover**: label [string]"
   ]
  },
  {
   "cell_type": "code",
   "execution_count": null,
   "id": "a418cab0-4f65-489d-905b-06d19c7ec451",
   "metadata": {
    "tags": []
   },
   "outputs": [],
   "source": [
    "field = gpd.read_file('sample.geojson')\n",
    "field_to_raster_crs = field.to_crs(s2_ref_crs)\n",
    "geom = field_to_raster_crs[['geometry', 'fid']].values.tolist()\n",
    "\n",
    "field_cropped_raster = features.rasterize(geom, out_shape=s2_ref_shape, fill=0, transform=s2_ref_trf)\n",
    "field_cropped_raster_xarr = xr.DataArray(field_cropped_raster)"
   ]
  },
  {
   "cell_type": "markdown",
   "id": "6b18ec15-7683-473a-b61c-e7adfd6e054e",
   "metadata": {},
   "source": [
    "### 4.2. Displaying the labeled image"
   ]
  },
  {
   "cell_type": "code",
   "execution_count": null,
   "id": "f8a06a63-e809-4707-9d4e-25328d79d009",
   "metadata": {},
   "outputs": [],
   "source": [
    "import matplotlib.pyplot as plt\n",
    "\n",
    "plt.imshow(field_cropped_raster_xarr)"
   ]
  },
  {
   "cell_type": "markdown",
   "id": "3d220867-33ea-49c6-902e-6e6d8a823a1a",
   "metadata": {},
   "source": [
    "## 5. Computing of zonal statistics \n",
    "\n",
    "### 5.1. Solution 1: with `xrspatial`\n",
    "\n",
    "Here, we compute statistics based on each Sentinel-2 bands and merge the results into the vector file attribute table.\n",
    "\n",
    "#### 5.1.1. Creating a dedicated function\n",
    "\n",
    "First, we create a function, named `s2_zonal`, that calls `xrspatial.zonal_stats`."
   ]
  },
  {
   "cell_type": "code",
   "execution_count": null,
   "id": "4ad02a3d-87f4-4e36-82d4-790add0b6b46",
   "metadata": {},
   "outputs": [],
   "source": [
    "from xrspatial import zonal_stats as xrspatial_zs\n",
    "import time\n",
    "\n",
    "def s2_zonal(ds, band, field_cropped_raster_xarr):\n",
    "    s2_band = ds.sel(band=band).squeeze('time').values\n",
    "    s2_band_xarr = xr.DataArray(s2_band)\n",
    "    sign_spectral = xrspatial_zs(field_cropped_raster_xarr, \n",
    "                                 s2_band_xarr, \n",
    "                                 stats_funcs = ['count','min','mean','max'], nodata_values = 0)\n",
    "    \n",
    "    out_names = dict()\n",
    "    for i in sign_spectral.columns:\n",
    "        out_names[i] = '{}_{}'.format(band, i)\n",
    "    sign_spectral.rename(columns = out_names, inplace = True)\n",
    "\n",
    "    return sign_spectral"
   ]
  },
  {
   "cell_type": "markdown",
   "id": "2165f8e8-e0b0-4360-98de-a486f76b6e7e",
   "metadata": {
    "tags": []
   },
   "source": [
    "#### 5.1.2. Calculating summary statistics of each vector entity"
   ]
  },
  {
   "cell_type": "code",
   "execution_count": null,
   "id": "a26d67da-d83d-4bf7-94cb-0788f47f574c",
   "metadata": {},
   "outputs": [],
   "source": [
    "final = field.copy()\n",
    "\n",
    "start_time = time.time()\n",
    "#for band in boi:\n",
    "#    df = s2_zonal(ds, band, field_cropped_raster_xarr)\n",
    "#    final = final.merge(df, left_on='fid', right_on='{}_zone'.format(band))\n",
    "end_time = time.time()\n",
    "\n",
    "duration = (end_time - start_time)\n",
    "minutes, seconds =  divmod(duration, 60)\n",
    "print(f'duration: {int(minutes)} min {seconds:.2f} sec')"
   ]
  },
  {
   "cell_type": "markdown",
   "id": "124f2ab6-4eb4-4240-9169-95136033f07c",
   "metadata": {},
   "source": [
    "#### 5.1.3. Displaying head of output table"
   ]
  },
  {
   "cell_type": "code",
   "execution_count": null,
   "id": "189cda1b-6484-417e-ad79-f50f170a83a3",
   "metadata": {
    "tags": []
   },
   "outputs": [],
   "source": [
    "cols = [c for c in final.columns if c.lower()[3:] != '_zone']\n",
    "finalb = final[cols]\n",
    "finalb.head()"
   ]
  },
  {
   "cell_type": "markdown",
   "id": "e24456cd-2f73-42e1-be4d-c96df37bd39a",
   "metadata": {},
   "source": [
    "### 5.2 Solution 2: with `rasterstats`"
   ]
  },
  {
   "cell_type": "markdown",
   "id": "35c8b268-2f96-45ee-a9c2-be79d9642818",
   "metadata": {},
   "source": [
    "#### 5.2.1. Installation of `rasterstats` library\n",
    "\n",
    "Here, we will use another package, named `rasterstats`. As it is not installed by default, we add it in our environment."
   ]
  },
  {
   "cell_type": "code",
   "execution_count": null,
   "id": "7e81883e-cbd5-462d-814e-f14ddaca109c",
   "metadata": {
    "tags": []
   },
   "outputs": [],
   "source": [
    "!pip install rasterstats"
   ]
  },
  {
   "cell_type": "markdown",
   "id": "b4a354d0-4b1b-4912-84ed-29e1150d566d",
   "metadata": {},
   "source": [
    "#### 5.2.2. Creating a dedicated function\n",
    "\n",
    "First, we create a function, named `s2_zonal2`, that calls `rasterstats.zonal_stats`."
   ]
  },
  {
   "cell_type": "code",
   "execution_count": null,
   "id": "5c1d009c-232c-41fc-9604-ea93b5207ba1",
   "metadata": {
    "tags": []
   },
   "outputs": [],
   "source": [
    "from rasterstats import zonal_stats as rasterstats_zs\n",
    "\n",
    "def s2_zonal2(stac_item, band, geodf, geodf_id):\n",
    "    fid = field_to_raster_crs[geodf_id]\n",
    "    zs = rasterstats_zs(geodf, stac_item.assets[band].href, stats=\"count min mean max median\")\n",
    "    sign_spectral = pd.DataFrame(zs)\n",
    "    sign_spectral = pd.concat([fid, sign_spectral], axis=1)\n",
    "        \n",
    "    out_names = dict()\n",
    "    for i in sign_spectral.columns:\n",
    "        out_names[i] = '{}_{}'.format(band, i)\n",
    "    sign_spectral.rename(columns = out_names, inplace = True)\n",
    "\n",
    "    return sign_spectral"
   ]
  },
  {
   "cell_type": "markdown",
   "id": "e4ea904a-6271-40cb-bdc8-512a2ee598cd",
   "metadata": {},
   "source": [
    "#### 5.2.3. Calculating summary statistics of each vector entity"
   ]
  },
  {
   "cell_type": "code",
   "execution_count": null,
   "id": "56c6e6ee-cb1e-4181-8759-7d3523b8b72d",
   "metadata": {
    "tags": []
   },
   "outputs": [],
   "source": [
    "final2 = field.copy()\n",
    "\n",
    "start_time = time.time()\n",
    "for band in boi:\n",
    "    df = s2_zonal2(item, band, field_to_raster_crs, \"fid\")\n",
    "    final2 = final2.merge(df, left_on='fid', right_on='{}_fid'.format(band))\n",
    "end_time = time.time()\n",
    "\n",
    "duration = (end_time - start_time)\n",
    "minutes, seconds =  divmod(duration, 60)\n",
    "print(f'duration: {int(minutes)} min {seconds:.2f} sec')"
   ]
  },
  {
   "cell_type": "markdown",
   "id": "7966c883-afc0-484e-a31e-5f65279f9760",
   "metadata": {},
   "source": [
    "#### 5.2.4. Displaying head of output table"
   ]
  },
  {
   "cell_type": "code",
   "execution_count": null,
   "id": "d18755d2-8daa-4318-9e0f-8aa8924bb5e4",
   "metadata": {
    "tags": []
   },
   "outputs": [],
   "source": [
    "cols = [c for c in final2.columns if c.lower()[3:] != '_fid']\n",
    "final2b = final2[cols]\n",
    "final2b.head()"
   ]
  },
  {
   "cell_type": "markdown",
   "id": "deafcef3-7243-49cb-a1b2-2d4a1600ee86",
   "metadata": {
    "tags": []
   },
   "source": [
    "## 6. Spectral signatures\n",
    "\n",
    "Now we have the summary statistics for several landcover types, we can plot their spectral signatures."
   ]
  },
  {
   "cell_type": "code",
   "execution_count": null,
   "id": "89f8179a-b966-4258-97c0-e06ea0ecad8c",
   "metadata": {
    "tags": []
   },
   "outputs": [],
   "source": [
    "df_spectral = final2b.set_index('landcover').T\n",
    "df_spectral = df_spectral.reset_index()\n",
    "\n",
    "df_spectral['band'] = df_spectral['index'].str[:3]\n",
    "df_spectral['stat'] = df_spectral['index'].str[4:]\n",
    "\n",
    "df_spectral2 = df_spectral.set_index('band')\n",
    "df_spectral2 = df_spectral2.drop(['fid', 'geo'])\n",
    "df_spectral2 = df_spectral2.drop(['index'], axis=1)\n",
    "\n",
    "test = pd.concat([df_spectral2.urban01, df_spectral2.urban02, df_spectral2.urban03])\n",
    "print(test.shape)\n",
    "\n",
    "#test2['radio'] = ['blue', 'green', 'red', 'rededge1', 'rededge2', 'rededge3', 'nir', 'swir1', 'swir2' ]\n",
    "\n",
    "s2_mean = df_spectral2[df_spectral2['stat']=='mean'].drop(['stat'], axis=1)\n",
    "s2_min = df_spectral2[df_spectral2['stat']=='min'].drop(['stat'], axis=1)\n",
    "s2_max = df_spectral2[df_spectral2['stat']=='max'].drop(['stat'], axis=1)\n",
    "\n",
    "ax = s2_mean['forest03'].plot()\n",
    "s2_min['forest03'].plot(ax=ax, c='gray')\n",
    "s2_max['forest03'].plot(ax=ax, c='gray')\n",
    "\n",
    "ax = s2_mean.plot()\n",
    "ax.legend(loc='center left', bbox_to_anchor=(1, 0.5))\n",
    "\n"
   ]
  },
  {
   "cell_type": "markdown",
   "id": "3190f28d-dee1-4d0f-b467-7b59d8c505c6",
   "metadata": {},
   "source": [
    "# 7. Band math and vegetation index "
   ]
  },
  {
   "cell_type": "markdown",
   "id": "754b62d9-b17a-4980-9de6-2173e0b68b0e",
   "metadata": {},
   "source": [
    "## 7.1. NDVI principles\n",
    "\n",
    "The NDVI (Normalized Difference Vegetation Index) is a vegetation index based on the difference between red and near infrared (nIR) values. Its formula is as follows:\n",
    "\n",
    "$$NDVI = {nIR - Red \\over nIR + Red}$$\n",
    "\n",
    "This index exploits the spectral signature of the vegetation which is very particular, because it shows a very marked peak in the near infrared, and a lower reflectance in the red. This index is very effective in determining the presence of vegetation, but it can also be used to to evaluate the importance of the vegetation biomass as well as the intensity of the photosynthesis activity."
   ]
  },
  {
   "cell_type": "code",
   "execution_count": null,
   "id": "15b0ec3b-9a51-4577-b394-58dd3e9f8c6d",
   "metadata": {
    "tags": []
   },
   "outputs": [],
   "source": [
    "nir, red = ds.sel(band=\"B08\").astype('float'), ds.sel(band=\"B04\").astype('float')\n",
    "ndvi = (nir-red)/(nir+red)"
   ]
  },
  {
   "cell_type": "markdown",
   "id": "55b17021-7174-4df5-bd70-b9c3758bb468",
   "metadata": {},
   "source": [
    "## 7.2. Plotting NDVI"
   ]
  },
  {
   "cell_type": "code",
   "execution_count": null,
   "id": "3547a038-8930-47fc-b904-5c7e408e94db",
   "metadata": {},
   "outputs": [],
   "source": [
    "plt.imshow(ndvi.squeeze(), cmap=\"RdYlGn\")\n",
    "plt.colorbar()\n",
    "plt.title('NDVI')\n",
    "plt.show()"
   ]
  },
  {
   "cell_type": "markdown",
   "id": "de7e0dea-c647-4692-b25a-7039d2d9d948",
   "metadata": {},
   "source": [
    "### 7.3. Using of Jupyter widgets\n",
    "\n",
    "It is possible to add elements (*slider*, *progress bar*, *checkbox*, *radio buttons*, etc.) to interact with the data visualization. To do this, load the `ipywidgets` library."
   ]
  },
  {
   "cell_type": "code",
   "execution_count": null,
   "id": "a3646df1-52b6-4957-aead-7b64b5010288",
   "metadata": {
    "tags": []
   },
   "outputs": [],
   "source": [
    "import ipywidgets as widgets\n",
    "from ipywidgets import interact, interact_manual\n",
    "\n",
    "def threshold(seuil):\n",
    "    seuil = np.where(ndvi.squeeze()>seuil, 1, 0)\n",
    "    plt.imshow(seuil, cmap=\"viridis\", interpolation='nearest')#, cmap=plt.cm.gray)\n",
    "    plt.colorbar()\n",
    "    plt.show()\n",
    "\n",
    "interact(threshold, seuil = widgets.FloatSlider(min=-1, max=1, step=0.001))"
   ]
  },
  {
   "cell_type": "code",
   "execution_count": null,
   "id": "e982bef3-232e-4ef9-a4bf-ef81c05d9235",
   "metadata": {},
   "outputs": [],
   "source": []
  }
 ],
 "metadata": {
  "kernelspec": {
   "display_name": "Python 3 (ipykernel)",
   "language": "python",
   "name": "python3"
  },
  "language_info": {
   "codemirror_mode": {
    "name": "ipython",
    "version": 3
   },
   "file_extension": ".py",
   "mimetype": "text/x-python",
   "name": "python",
   "nbconvert_exporter": "python",
   "pygments_lexer": "ipython3",
   "version": "3.11.4"
  }
 },
 "nbformat": 4,
 "nbformat_minor": 5
}
