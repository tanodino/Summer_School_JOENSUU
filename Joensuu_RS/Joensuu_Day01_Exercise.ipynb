{
 "cells": [
  {
   "cell_type": "markdown",
   "id": "93bc5139-5dc2-4955-a084-da09222b8331",
   "metadata": {},
   "source": [
    "# let's try Joensuu !"
   ]
  },
  {
   "cell_type": "markdown",
   "id": "b67c929d-181d-454f-be74-e58b2f21c354",
   "metadata": {},
   "source": [
    "input search parameters:\n",
    "- area of interest: [29.708405, 62.585736, 29.816895, 62.629308]\n",
    "- time range: \n",
    "    - start_date: 2023-07-01\n",
    "    - end_date: 2023-08-14\n",
    "- satellite collection: sentinel-2"
   ]
  },
  {
   "cell_type": "code",
   "execution_count": null,
   "id": "46841996-46ea-44cf-abdc-afe78caedde7",
   "metadata": {
    "tags": []
   },
   "outputs": [],
   "source": [
    "# STAC access\n",
    "import pystac_client\n",
    "import planetary_computer\n",
    "\n",
    "# library for handling GIS rasters\n",
    "import rasterio as rio\n",
    "import rasterio.mask\n",
    "\n",
    "from matplotlib import pyplot as plt\n",
    "import numpy as np\n",
    "import rich"
   ]
  },
  {
   "cell_type": "code",
   "execution_count": null,
   "id": "f4d3a358-1157-495a-9cb9-e8c261bbd8bd",
   "metadata": {
    "tags": []
   },
   "outputs": [],
   "source": [
    "# retrieving the relevant STAC Item\n",
    "catalog = pystac_client.Client.open(\n",
    "    \"https://planetarycomputer.microsoft.com/api/stac/v1\",\n",
    "    modifier=planetary_computer.sign_inplace,\n",
    "    )"
   ]
  },
  {
   "cell_type": "code",
   "execution_count": null,
   "id": "55d4acf3-c0cf-4841-89fa-001fb2939f78",
   "metadata": {
    "tags": []
   },
   "outputs": [],
   "source": [
    "aoi = [29.708405, 62.585736, 29.816895, 62.629308]\n",
    "#time_range\n",
    "start_date='2023-07-01'\n",
    "end_date='2023-08-14'\n",
    "sat_coll=['sentinel-2-l2a']"
   ]
  },
  {
   "cell_type": "code",
   "execution_count": null,
   "id": "7414d0ba-a01f-4d9e-af6a-4d25f26e7710",
   "metadata": {
    "tags": []
   },
   "outputs": [],
   "source": [
    "search = catalog.search(\n",
    "    collections=sat_coll,\n",
    "    datetime=f'{start_date}/{end_date}',\n",
    "    bbox=aoi\n",
    ")\n",
    "items = search.item_collection()\n",
    "print(f\"{len(items)} items found with the `bbox` parameter\")"
   ]
  },
  {
   "cell_type": "code",
   "execution_count": null,
   "id": "0e4c03ce-050e-4ddc-b807-c7e0e8d0de98",
   "metadata": {
    "tags": []
   },
   "outputs": [],
   "source": [
    "for img in items:\n",
    "    print(img.id, img.datetime)"
   ]
  },
  {
   "cell_type": "code",
   "execution_count": null,
   "id": "fc48ba93-003d-4254-8ebb-74e5662e9c8c",
   "metadata": {
    "tags": []
   },
   "outputs": [],
   "source": [
    "item = catalog.get_collection('sentinel-2-l2a').get_item(\"S2A_MSIL2A_20230812T094041_R036_T36VUQ_20230812T161209\")\n",
    "item"
   ]
  },
  {
   "cell_type": "code",
   "execution_count": null,
   "id": "3b3be731-a4d5-488d-943d-9e336d0a10c4",
   "metadata": {
    "tags": []
   },
   "outputs": [],
   "source": [
    "with rio.open(item.assets['B02'].href) as ds:\n",
    "    profile = ds.profile\n",
    "rich.print(profile)\n"
   ]
  },
  {
   "cell_type": "code",
   "execution_count": null,
   "id": "ab50083b-e49f-40a1-aea3-dc04d8addeee",
   "metadata": {
    "tags": []
   },
   "outputs": [],
   "source": [
    "converted_aoi_bounds = rio.warp.transform_bounds(\"epsg:4326\", profile['crs'], *aoi)\n",
    "converted_aoi_bounds"
   ]
  },
  {
   "cell_type": "code",
   "execution_count": null,
   "id": "077ff034-bc86-404b-8f14-59302e87916c",
   "metadata": {
    "tags": []
   },
   "outputs": [],
   "source": [
    "aoi_window = rio.windows.from_bounds(*converted_aoi_bounds, transform = profile['transform'])\n",
    "aoi_window"
   ]
  },
  {
   "cell_type": "code",
   "execution_count": null,
   "id": "4472aa5a-9e05-4048-b648-2f102a9669d9",
   "metadata": {
    "tags": []
   },
   "outputs": [],
   "source": [
    "with rio.open(item.assets['B02'].href) as ds:\n",
    "    band_blue = ds.read(window=aoi_window)\n",
    "with rio.open(item.assets['B03'].href) as ds:\n",
    "    band_green = ds.read(window=aoi_window)\n",
    "with rio.open(item.assets['B04'].href) as ds:\n",
    "    band_red = ds.read(window=aoi_window)\n",
    "with rio.open(item.assets['B08'].href) as ds:\n",
    "    band_nir = ds.read(window=aoi_window)"
   ]
  },
  {
   "cell_type": "code",
   "execution_count": null,
   "id": "35ad1739-3fa0-48d9-a0b3-1bded5c5408d",
   "metadata": {
    "tags": []
   },
   "outputs": [],
   "source": [
    "def normalize(array, vmax=False):\n",
    "    \"\"\"Normalizes numpy arrays into scale 0.0 - 1.0\"\"\"\n",
    "    if vmax:\n",
    "        array[array>vmax] = vmax\n",
    "    array_min, array_max = array.min(), array.max()\n",
    "    return ((array - array_min)/(array_max - array_min))\n",
    "\n",
    "band_blue_n = normalize(band_blue, 3000)\n",
    "band_green_n = normalize(band_green, 3000)\n",
    "band_red_n = normalize(band_red, 3000)\n",
    "band_nir_n = normalize(band_nir, 3000)"
   ]
  },
  {
   "cell_type": "code",
   "execution_count": null,
   "id": "b8c64427-0b2d-4302-97d1-8316d93b2f34",
   "metadata": {
    "tags": []
   },
   "outputs": [],
   "source": [
    "rgb = np.stack((band_red_n, band_green_n, band_blue_n))\n",
    "rgb_natcol = np.moveaxis(rgb.squeeze(), 0, -1)\n",
    "rgb = np.stack((band_nir_n, band_red_n, band_green_n))\n",
    "rgb_nircol = np.moveaxis(rgb.squeeze(), 0, -1)"
   ]
  },
  {
   "cell_type": "code",
   "execution_count": null,
   "id": "ecf0e2fc-b272-4479-b607-a8320cb297fc",
   "metadata": {
    "tags": []
   },
   "outputs": [],
   "source": [
    "f = plt.figure()\n",
    "f.add_subplot(1,2, 1)\n",
    "plt.imshow(rgb_natcol)\n",
    "plt.title('Joensuu: natural color')\n",
    "f.add_subplot(1,2, 2)\n",
    "plt.imshow(rgb_nircol)\n",
    "plt.title('Joensuu: nir false color')\n",
    "plt.show(block=True)\n"
   ]
  },
  {
   "cell_type": "code",
   "execution_count": null,
   "id": "97278cd3-46f2-436d-956b-dca51051b13f",
   "metadata": {},
   "outputs": [],
   "source": []
  }
 ],
 "metadata": {
  "kernelspec": {
   "display_name": "Python 3 (ipykernel)",
   "language": "python",
   "name": "python3"
  },
  "language_info": {
   "codemirror_mode": {
    "name": "ipython",
    "version": 3
   },
   "file_extension": ".py",
   "mimetype": "text/x-python",
   "name": "python",
   "nbconvert_exporter": "python",
   "pygments_lexer": "ipython3",
   "version": "3.11.4"
  }
 },
 "nbformat": 4,
 "nbformat_minor": 5
}
