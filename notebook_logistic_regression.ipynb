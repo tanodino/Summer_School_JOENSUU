{
  "cells": [
    {
      "cell_type": "markdown",
      "metadata": {
        "id": "view-in-github",
        "colab_type": "text"
      },
      "source": [
        "<a href=\"https://colab.research.google.com/github/tanodino/Summer_School_JOENSUU/blob/main/notebook_logistic_regression.ipynb\" target=\"_parent\"><img src=\"https://colab.research.google.com/assets/colab-badge.svg\" alt=\"Open In Colab\"/></a>"
      ]
    },
    {
      "cell_type": "markdown",
      "source": [
        "### **IMPORT DATA FROM GOOGLE DRIVE**"
      ],
      "metadata": {
        "id": "Fk6x4LuoTb1y"
      }
    },
    {
      "cell_type": "code",
      "source": [
        "from google.colab import drive\n",
        "from sklearn.utils import shuffle\n",
        "from sklearn.model_selection import train_test_split\n",
        "import pandas as pd\n",
        "from sklearn.linear_model import LogisticRegression\n",
        "import matplotlib.pyplot as plt"
      ],
      "metadata": {
        "id": "eW77y0ILTcqq"
      },
      "execution_count": null,
      "outputs": []
    },
    {
      "cell_type": "markdown",
      "source": [
        "**READING THE DATA FROM THE GOOGLE DRIVE CLOUD**"
      ],
      "metadata": {
        "id": "gb1McSTdbwkf"
      }
    },
    {
      "cell_type": "code",
      "source": [
        "drive.mount('/content/drive')\n",
        "#df = pd.read_csv(\"/content/drive/My Drive/Summer_School_JOENSUU/data.csv\",header=None)\n",
        "df = pd.read_csv(\"/content/drive/My Drive/Summer_School_JOENSUU/data.csv\")\n",
        "print(df)"
      ],
      "metadata": {
        "id": "7Og3_4j_TJIm"
      },
      "execution_count": null,
      "outputs": []
    },
    {
      "cell_type": "markdown",
      "source": [
        "**TRANSFORM THE DATA FROM PANDAS DATA FRAME TO NUMPY FORMAT**"
      ],
      "metadata": {
        "id": "cBNn4xREb17F"
      }
    },
    {
      "cell_type": "code",
      "source": [
        "data_target = df.to_numpy()\n",
        "print(data_target.shape)"
      ],
      "metadata": {
        "id": "hCR7FhGmYsjr"
      },
      "execution_count": null,
      "outputs": []
    },
    {
      "cell_type": "markdown",
      "source": [
        "**OBTAINING FEATURES AND TARGET VARIABLE FROM THE DATA**"
      ],
      "metadata": {
        "id": "2o24IdC5b8_s"
      }
    },
    {
      "cell_type": "code",
      "source": [
        "data = data_target[:,1:-1]\n",
        "target = data_target[:,-1]\n",
        "print(data.shape)\n",
        "print(target.shape)\n",
        "print(data)\n",
        "print(\"====\")\n",
        "print(target)"
      ],
      "metadata": {
        "id": "f0bV2I4EZvpd"
      },
      "execution_count": null,
      "outputs": []
    },
    {
      "cell_type": "markdown",
      "source": [
        "**SHUFFLING THE DATA AND, THEN, PARTITION THE DATA IN TRAINING AND TEST SET**"
      ],
      "metadata": {
        "id": "9QyiPfAabm6m"
      }
    },
    {
      "cell_type": "code",
      "source": [
        "data, target = shuffle(data,target)\n",
        "X_train, X_test, y_train, y_test = train_test_split(data, target, test_size=0.33)"
      ],
      "metadata": {
        "id": "NuPCLAs9aSOs"
      },
      "execution_count": null,
      "outputs": []
    },
    {
      "cell_type": "markdown",
      "source": [
        "**USE LOGISTIC REGRESSION ON THE DATA** - [link](https://scikit-learn.org/stable/modules/generated/sklearn.linear_model.LogisticRegression.html)"
      ],
      "metadata": {
        "id": "lzf8C12zbefb"
      }
    },
    {
      "cell_type": "code",
      "source": [
        "lr = LogisticRegression(random_state=0)\n",
        "lr.fit(X_train, y_train)\n",
        "lr_prediction = lr.predict(X_test)\n",
        "lr_prediction_proba = lr.predict_proba(X_test)\n",
        "\n",
        "print(lr_prediction)\n",
        "print(\"======\")\n",
        "print(lr_prediction_proba)"
      ],
      "metadata": {
        "id": "vCRHyJ0qaolz"
      },
      "execution_count": null,
      "outputs": []
    },
    {
      "cell_type": "code",
      "source": [
        "coeff_values = lr.coef_\n",
        "print(coeff_values)\n",
        "coeff_values = coeff_values[0]\n",
        "print(coeff_values)"
      ],
      "metadata": {
        "id": "G5cIVWzocXoj"
      },
      "execution_count": null,
      "outputs": []
    },
    {
      "cell_type": "code",
      "source": [
        "fig, ax = plt.subplots()\n",
        "\n",
        "coeff_x = [\"coeff1\",\"coeff2\",\"coeff3\",\"coeff4\"]\n",
        "\n",
        "ax.bar(coeff_x, coeff_values)\n",
        "\n",
        "plt.show()"
      ],
      "metadata": {
        "id": "4Q574F_NcXwI"
      },
      "execution_count": null,
      "outputs": []
    },
    {
      "cell_type": "markdown",
      "source": [
        "SCIKIT LEARN PROVIDES THREE DIFFERENT GENREALIZED LINEAR MODEL:\n",
        "\n",
        "\n",
        "*   POISSON REGRESSOR - [LINK](https://scikit-learn.org/stable/modules/generated/sklearn.linear_model.PoissonRegressor.html#sklearn.linear_model.PoissonRegressor)\n",
        "*   TWEEDIE REGRESSOR - [LINK](https://scikit-learn.org/stable/modules/generated/sklearn.linear_model.TweedieRegressor.html#sklearn.linear_model.TweedieRegressor)\n",
        "* GAMMA REGRESSOR - [LINK](https://scikit-learn.org/stable/modules/generated/sklearn.linear_model.GammaRegressor.html#sklearn.linear_model.GammaRegressor)\n",
        "\n"
      ],
      "metadata": {
        "id": "YDoX4h0ddcOS"
      }
    },
    {
      "cell_type": "code",
      "source": [
        "from sklearn.linear_model import PoissonRegressor\n",
        "\n",
        "poisson_regressor = PoissonRegressor(random_state=0)\n",
        "poisson_regressor.fit(X_train, y_train)\n",
        "pr_prediction = poisson_regressor.predict(X_test)\n",
        "pr_prediction_proba = poisson_regressor.predict_proba(X_test)"
      ],
      "metadata": {
        "id": "_rJ8QEGed2kO"
      },
      "execution_count": null,
      "outputs": []
    }
  ],
  "metadata": {
    "colab": {
      "provenance": [],
      "mount_file_id": "1Y9js2Vst183uac6XX6sIKfolgLkvvmf3",
      "authorship_tag": "ABX9TyNGvi7U6Fk7SH9m5+xHUwqu",
      "include_colab_link": true
    },
    "kernelspec": {
      "display_name": "Python 3",
      "name": "python3"
    },
    "language_info": {
      "name": "python"
    }
  },
  "nbformat": 4,
  "nbformat_minor": 0
}