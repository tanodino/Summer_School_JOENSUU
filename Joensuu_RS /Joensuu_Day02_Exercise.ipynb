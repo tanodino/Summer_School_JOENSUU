{
  "nbformat": 4,
  "nbformat_minor": 0,
  "metadata": {
    "colab": {
      "provenance": [],
      "authorship_tag": "ABX9TyMa3Q0joFmUwlvjNUWj1iTf",
      "include_colab_link": true
    },
    "kernelspec": {
      "name": "python3",
      "display_name": "Python 3"
    },
    "language_info": {
      "name": "python"
    }
  },
  "cells": [
    {
      "cell_type": "markdown",
      "metadata": {
        "id": "view-in-github",
        "colab_type": "text"
      },
      "source": [
        "<a href=\"https://colab.research.google.com/github/tanodino/Summer_School_JOENSUU/blob/main/Joensuu_RS%20/Joensuu_Day02_Exercise.ipynb\" target=\"_parent\"><img src=\"https://colab.research.google.com/assets/colab-badge.svg\" alt=\"Open In Colab\"/></a>"
      ]
    },
    {
      "cell_type": "code",
      "execution_count": null,
      "metadata": {
        "id": "JFUC676OiXB1"
      },
      "outputs": [],
      "source": [
        "!pip install pystac_client\n",
        "!pip install planetary_computer\n",
        "!pip install stackstac\n",
        "\n",
        "# STAC access\n",
        "import pystac_client\n",
        "import planetary_computer\n",
        "\n",
        "# dataframes\n",
        "import pandas as pd\n",
        "\n",
        "# xarrays\n",
        "import xarray as xr\n",
        "\n",
        "# library for turning STAC objects into xarrays\n",
        "import stackstac\n",
        "\n",
        "# visualization\n",
        "from matplotlib import pyplot as plt\n",
        "\n",
        "# miscellanous\n",
        "import numpy as np\n",
        "from IPython.display import display\n"
      ]
    },
    {
      "cell_type": "code",
      "source": [
        "# retrieving the relevant STAC Item\n",
        "catalog = pystac_client.Client.open(\n",
        "    \"https://planetarycomputer.microsoft.com/api/stac/v1\",\n",
        "    modifier=planetary_computer.sign_inplace,\n",
        "    )\n",
        "\n",
        "# bounding box expressed in Lat/Lon\n",
        "aoi_bounds = (-1.7, 6.6 , -1.5, 6.8)\n"
      ],
      "metadata": {
        "id": "kWsXLwRpisL1"
      },
      "execution_count": null,
      "outputs": []
    },
    {
      "cell_type": "code",
      "source": [
        "item = catalog.get_collection('sentinel-2-l2a').get_item(\"S2B_MSIL2A_20200516T101559_R065_T30NXN_20200909T222832\")"
      ],
      "metadata": {
        "id": "bY8W5RrHj6FO"
      },
      "execution_count": null,
      "outputs": []
    },
    {
      "cell_type": "code",
      "source": [
        "bands = ['B02', 'B03', 'B04', 'B05', 'B06', 'B07', 'B08', 'B11', 'B12']\n",
        "FILL_VALUE = 2**16-1\n",
        "\n",
        "array = stackstac.stack(\n",
        "                    item,\n",
        "                    assets = bands,\n",
        "                    resolution=50,\n",
        "                    dtype=\"uint16\",\n",
        "                    fill_value=FILL_VALUE,\n",
        "                    bounds_latlon=aoi_bounds,\n",
        "                    )\n",
        "array"
      ],
      "metadata": {
        "id": "qo9KdB5mjCGz"
      },
      "execution_count": null,
      "outputs": []
    },
    {
      "cell_type": "code",
      "source": [
        "sub_cube = array.sel(x=slice(643650.,655000.), y=slice(751900,740000) )\n",
        "sub_cube"
      ],
      "metadata": {
        "id": "Xh1AyyFxkXzQ"
      },
      "execution_count": null,
      "outputs": []
    },
    {
      "cell_type": "code",
      "source": [
        "#COMPUTE NDWI INDEX || (NIR - MIR) / (NIR + MIR) || (B08 - B12) / (B08 + B12)\n",
        "\n",
        "band_mir = sub_cube.sel(band=\"B12\").astype(\"float\")\n",
        "band_nir = sub_cube.sel(band=\"B08\").astype(\"float\")\n",
        "\n",
        "NDWI = (band_nir - band_mir) / (band_nir + band_mir)\n",
        "NDWI.plot.hist()\n"
      ],
      "metadata": {
        "id": "A3HXLK5zom_U"
      },
      "execution_count": null,
      "outputs": []
    },
    {
      "cell_type": "code",
      "source": [
        "#v_min = -0.3\n",
        "#v_main = 0.6\n",
        "#NDWI = NDWI.squeeze()\n",
        "NDWI.plot(vmin= -.3, vmax=.6)"
      ],
      "metadata": {
        "id": "tdllC-Y-sXyd"
      },
      "execution_count": null,
      "outputs": []
    },
    {
      "cell_type": "code",
      "source": [
        "#COMPUTE EVI INDEX || 2.5 * (NIR - RED) / ((NIR + 6*RED - 7.5*BLUE) + 1) || 2.5 * (B08 - B04) / ((B08 + 6.0 * B04 - 7.5 * B02) + 1.0)\n",
        "\n",
        "band_blue = sub_cube.sel(band=\"B02\").astype(\"float\")\n",
        "band_red = sub_cube.sel(band=\"B04\").astype(\"float\")\n",
        "band_nir = sub_cube.sel(band=\"B08\").astype(\"float\")\n",
        "\n",
        "EVI = 2.5 * (band_nir - band_red) / ((band_nir + 6.0 * band_red - 7.5 * band_blue) + 1.0)\n",
        "EVI.plot(robust=True)"
      ],
      "metadata": {
        "id": "lPAlXuR0s-_x"
      },
      "execution_count": null,
      "outputs": []
    },
    {
      "cell_type": "code",
      "source": [
        "#COMPUTE GNDVI INDEX || (NIR - GREEN) / (NIR + GREEN) || (B08 - B03) / (B08 + B03)\n",
        "\n",
        "band_green = sub_cube.sel(band=\"B03\").astype(\"float\")\n",
        "band_nir = sub_cube.sel(band=\"B08\").astype(\"float\")\n",
        "\n",
        "GNDVI = (band_nir - band_green) / (band_nir + band_green)\n",
        "GNDVI.plot(robust=True)"
      ],
      "metadata": {
        "id": "LuCnnbbAvoqn"
      },
      "execution_count": null,
      "outputs": []
    },
    {
      "cell_type": "code",
      "source": [
        "def normalize(data):\n",
        "  vmin = np.percentile(data,2)\n",
        "  vmax = np.percentile(data,98)\n",
        "  #NORMALIZE DATA BETWEEN -1 and 1\n",
        "  new_data = -1 + ( (data - vmin) / (vmax-vmin) ) * 2\n",
        "  #REPLACE DATA SMALLER THAN -1 with -1 and REPLACE DATA BIGGER THAN 1 with 1\n",
        "  new_data = np.clip(new_data, -1, 1.)\n",
        "  return new_data\n",
        "\n",
        "NDWI_npy = NDWI.squeeze().to_numpy()\n",
        "EVI_npy = EVI.squeeze().to_numpy()\n",
        "GNDVI_npy = GNDVI.squeeze().to_numpy()\n",
        "\n",
        "NDWI_npy = normalize(NDWI_npy)\n",
        "EVI_npy = normalize(EVI_npy)\n",
        "GNDVI_npy = normalize(GNDVI_npy)\n",
        "\n",
        "\n",
        "rgb = np.stack((NDWI_npy, EVI_npy, GNDVI_npy), axis=-1)\n",
        "plt.imshow(rgb)"
      ],
      "metadata": {
        "id": "K_VPKgLXwKZf"
      },
      "execution_count": null,
      "outputs": []
    }
  ]
}